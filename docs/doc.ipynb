{
 "cells": [
  {
   "cell_type": "markdown",
   "source": [
    "# HarmonyDirectors\n",
    "Welcome to `HarmonyDirectors` Docs!\n",
    "\n",
    "`HarmonyDirectors` is a new python library that allows you\n",
    " to handle various things about music and its chords.\n",
    "\n",
    "### System Requirement\n",
    "This library is using following libraries. Here are their versions."
   ],
   "metadata": {
    "collapsed": false,
    "pycharm": {
     "name": "#%% md\n"
    }
   }
  },
  {
   "cell_type": "code",
   "execution_count": 3,
   "outputs": [
    {
     "name": "stdout",
     "output_type": "stream",
     "text": [
      "Python: 3.8.3 (default, May 19 2020, 06:50:17) [MSC v.1916 64 bit (AMD64)]\n",
      "numpy: 1.18.1\n",
      "scipy: 1.4.1\n",
      "librosa: 0.6.3\n"
     ]
    }
   ],
   "source": [
    "import sys\n",
    "import numpy\n",
    "import scipy\n",
    "import librosa\n",
    "print('Python: ' + sys.version)\n",
    "print('numpy: ' + numpy.__version__)\n",
    "print('scipy: ' + scipy.__version__)\n",
    "print('librosa: ' + librosa.__version__)\n"
   ],
   "metadata": {
    "collapsed": false,
    "pycharm": {
     "name": "#%%\n"
    }
   }
  }
 ],
 "metadata": {
  "kernelspec": {
   "name": "python3",
   "language": "python",
   "display_name": "Python 3"
  },
  "language_info": {
   "codemirror_mode": {
    "name": "ipython",
    "version": 2
   },
   "file_extension": ".py",
   "mimetype": "text/x-python",
   "name": "python",
   "nbconvert_exporter": "python",
   "pygments_lexer": "ipython2",
   "version": "2.7.6"
  }
 },
 "nbformat": 4,
 "nbformat_minor": 0
}