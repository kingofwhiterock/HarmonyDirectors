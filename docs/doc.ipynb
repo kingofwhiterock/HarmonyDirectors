{
 "cells": [
  {
   "cell_type": "markdown",
   "source": [
    "# HarmonyDirectors\n",
    "Welcome to `HarmonyDirectors` Document.\n",
    "\n",
    "`HarmonyDirectors` is a new python library that allows you\n",
    " to handle various things about music and its chords.\n",
    "\n",
    "### System Requirement\n",
    "This library is using following libraries. Here are their versions."
   ],
   "metadata": {
    "collapsed": false,
    "pycharm": {
     "name": "#%% md\n"
    }
   }
  },
  {
   "cell_type": "code",
   "execution_count": 1,
   "outputs": [
    {
     "name": "stdout",
     "output_type": "stream",
     "text": [
      "Python: 3.8.3 (default, May 19 2020, 06:50:17) [MSC v.1916 64 bit (AMD64)]\n",
      "numpy: 1.18.1\n",
      "scipy: 1.4.1\n",
      "librosa: 0.6.3\n"
     ]
    }
   ],
   "source": [
    "import sys\n",
    "import numpy\n",
    "import scipy\n",
    "import librosa\n",
    "print('Python: ' + sys.version)\n",
    "print('numpy: ' + numpy.__version__)\n",
    "print('scipy: ' + scipy.__version__)\n",
    "print('librosa: ' + librosa.__version__)"
   ],
   "metadata": {
    "collapsed": false,
    "pycharm": {
     "name": "#%%\n"
    }
   }
  },
  {
   "cell_type": "markdown",
   "source": [
    "### installation\n",
    "Now preparing. This library will be registered with PyPI.\n",
    "\n",
    "### Usage\n",
    "1. If you want to know a chord symbol from elements."
   ],
   "metadata": {
    "collapsed": false,
    "pycharm": {
     "name": "#%% md\n"
    }
   }
  },
  {
   "cell_type": "code",
   "execution_count": 2,
   "outputs": [
    {
     "name": "stdout",
     "output_type": "stream",
     "text": [
      "['CmM7']\n"
     ]
    }
   ],
   "source": [
    "# example 1 (without bass)\n",
    "from harmonydirectors.chord import ChordLetters\n",
    "\n",
    "# make an instance\n",
    "cl = ChordLetters()\n",
    "\n",
    "lst = ['C', 'Eb', 'G', 'B']\n",
    "\n",
    "# convert character list to numbers array\n",
    "lst = cl.char_to_array(lst)\n",
    "\n",
    "# number arrays to a chord symbol\n",
    "answer = cl.notes_to_chord(lst)\n",
    "\n",
    "# print an answer\n",
    "print(answer)\n"
   ],
   "metadata": {
    "collapsed": false,
    "pycharm": {
     "name": "#%%\n"
    }
   }
  },
  {
   "cell_type": "code",
   "source": [
    "# example 2 (with bass)\n",
    "# importing and make an instance are already done.\n",
    "\n",
    "lst = ['E', 'Ab', 'C']\n",
    "bass = 'Gb'\n",
    "\n",
    "# convert character list to numbers array\n",
    "lst = cl.char_to_array(lst)\n",
    "bass = cl.char_to_array(bass)\n",
    "\n",
    "# number arrays to a chord symbol\n",
    "answer = cl.notes_to_chord(lst, bass[0])\n",
    "\n",
    "# print an answer\n",
    "print(answer)\n"
   ],
   "metadata": {
    "collapsed": false,
    "pycharm": {
     "name": "#%%\n"
    }
   },
   "execution_count": 3,
   "outputs": [
    {
     "name": "stdout",
     "output_type": "stream",
     "text": [
      "['Caug/Gb', 'Eaug/Gb', 'Abaug/Gb']\n"
     ]
    }
   ]
  },
  {
   "cell_type": "markdown",
   "source": [
    "2. If you want to know elements that consist of\n",
    "a chord symbol."
   ],
   "metadata": {
    "collapsed": false,
    "pycharm": {
     "name": "#%% md\n"
    }
   }
  },
  {
   "cell_type": "code",
   "execution_count": 4,
   "outputs": [
    {
     "name": "stdout",
     "output_type": "stream",
     "text": [
      "['F', 'Ab', 'B', 'E']\n",
      "D\n"
     ]
    }
   ],
   "source": [
    "# importing and make an instance are already done.\n",
    "\n",
    "chord = 'FdimM7/D'\n",
    "answer = cl.chord_to_notes(chord)\n",
    "print(answer['main'])\n",
    "print(answer['bass'])"
   ],
   "metadata": {
    "collapsed": false,
    "pycharm": {
     "name": "#%%\n"
    }
   }
  },
  {
   "cell_type": "markdown",
   "source": [],
   "metadata": {
    "collapsed": false,
    "pycharm": {
     "name": "#%% md\n"
    }
   }
  }
 ],
 "metadata": {
  "kernelspec": {
   "name": "python3",
   "language": "python",
   "display_name": "Python 3"
  },
  "language_info": {
   "codemirror_mode": {
    "name": "ipython",
    "version": 2
   },
   "file_extension": ".py",
   "mimetype": "text/x-python",
   "name": "python",
   "nbconvert_exporter": "python",
   "pygments_lexer": "ipython2",
   "version": "2.7.6"
  }
 },
 "nbformat": 4,
 "nbformat_minor": 0
}